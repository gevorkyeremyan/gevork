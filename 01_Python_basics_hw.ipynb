{
 "cells": [
  {
   "cell_type": "code",
   "execution_count": 6,
   "metadata": {},
   "outputs": [
    {
     "name": "stdout",
     "output_type": "stream",
     "text": [
      "task_1\n",
      "Фразы равной длины\n"
     ]
    }
   ],
   "source": [
    "print('task_1')\n",
    "phrase_1 = 'Насколько проще было бы писать программы, если бы не заказчики'\n",
    "phrase_2 = '640Кб должно хватить для любых задач. Билл Гейтс (по легенде)'\n",
    "if len(phrase_1)>len(phrase_2):\n",
    "    print('Фраза 1 длиннее фразы 2')\n",
    "elif len(phrase_1)<len(phrase_2):\n",
    "    print('Фраза 2 длиннее фразы 1')\n",
    "else:\n",
    "    print('Фразы равной длины')"
   ]
  },
  {
   "cell_type": "code",
   "execution_count": 8,
   "metadata": {},
   "outputs": [
    {
     "name": "stdout",
     "output_type": "stream",
     "text": [
      "task_2\n",
      "Введите число2016\n",
      "Високосный год\n"
     ]
    }
   ],
   "source": [
    "print('task_2')\n",
    "user_input = int(input('Введите число'))\n",
    "if user_input%4 == 0:\n",
    "    print('Високосный год')\n",
    "else:\n",
    "    print('Обычный год')"
   ]
  },
  {
   "cell_type": "code",
   "execution_count": 6,
   "metadata": {},
   "outputs": [
    {
     "name": "stdout",
     "output_type": "stream",
     "text": [
      "task_3\n",
      "Введите день в формате от 01 до 3105\n",
      "Введите месяцСентябрь\n",
      "Дева\n"
     ]
    }
   ],
   "source": [
    "print('task_3')\n",
    "day = int(input('Введите день в формате от 01 до 31'))\n",
    "month = input('Введите месяц')\n",
    "if month =='Январь':\n",
    "    m = 1\n",
    "elif month =='Февраль':\n",
    "    m = 2\n",
    "elif month =='Март':\n",
    "    m = 3\n",
    "elif month =='Апрель':\n",
    "    m = 4\n",
    "elif month =='Май':\n",
    "    m = 5\n",
    "elif month =='Июнь':\n",
    "    m = 6\n",
    "elif month =='Июль':\n",
    "    m = 7\n",
    "elif month =='Август':\n",
    "    m = 8\n",
    "elif month =='Сентябрь':\n",
    "    m = 9\n",
    "elif month =='Октябрь':\n",
    "    m = 10\n",
    "elif month =='Ноябрь':\n",
    "    m = 11\n",
    "elif month =='Декабрь':\n",
    "    m = 12\n",
    "else:\n",
    "    print('Введите месяц русскими буквами с большой буквы')\n",
    "md = m*100+day\n",
    "md\n",
    "if md >1221:\n",
    "    print('Козерог')\n",
    "elif md >1121:\n",
    "    print('Стрелец')\n",
    "elif md >1022:\n",
    "    print('Скорпион')\n",
    "elif md >922:\n",
    "    print('Весы')\n",
    "elif md >822:\n",
    "    print('Дева')\n",
    "elif md >722:\n",
    "    print('Лев')\n",
    "elif md >620:\n",
    "    print('Рак')\n",
    "elif md >520:\n",
    "    print('Близнецы')\n",
    "elif md >419:\n",
    "    print('Телец')\n",
    "elif md >320:\n",
    "    print('Овен')\n",
    "elif md >218:\n",
    "    print('Рыбы')\n",
    "elif md >119:\n",
    "    print('Водолей')\n",
    "elif md >100:\n",
    "    print('Козерог')\n",
    "else:\n",
    "    print('Проверьте правильность введенных данных')"
   ]
  },
  {
   "cell_type": "code",
   "execution_count": 8,
   "metadata": {},
   "outputs": [
    {
     "name": "stdout",
     "output_type": "stream",
     "text": [
      "task_4\n",
      "Коробка №2\n"
     ]
    }
   ],
   "source": [
    "print('task_4')\n",
    "width = 10\n",
    "length = 25\n",
    "height = 5\n",
    "if width < 15 and length < 15 and height < 15:\n",
    "    print('Коробка №1')\n",
    "elif width < 50 and length < 50 and height < 50:\n",
    "    print('Коробка №2')\n",
    "elif length > 200 :\n",
    "    print('Упаковка для лыж')\n",
    "else:\n",
    "    print('Стандартная коробка №3')"
   ]
  },
  {
   "cell_type": "code",
   "execution_count": null,
   "metadata": {},
   "outputs": [],
   "source": []
  }
 ],
 "metadata": {
  "kernelspec": {
   "display_name": "Python 3",
   "language": "python",
   "name": "python3"
  },
  "language_info": {
   "codemirror_mode": {
    "name": "ipython",
    "version": 3
   },
   "file_extension": ".py",
   "mimetype": "text/x-python",
   "name": "python",
   "nbconvert_exporter": "python",
   "pygments_lexer": "ipython3",
   "version": "3.7.6"
  }
 },
 "nbformat": 4,
 "nbformat_minor": 4
}
