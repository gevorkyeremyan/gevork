{
 "cells": [
  {
   "cell_type": "code",
   "execution_count": 1,
   "metadata": {},
   "outputs": [],
   "source": [
    "documents = [\n",
    "{'type': 'passport', 'number': '2207 876234', 'name': 'Василий Гупкин'},\n",
    "{'type': 'invoice', 'number': '11-2', 'name': 'Геннадий Покемонов'},\n",
    "{'type': 'insurance', 'number': '10006', 'name': 'Аристарх Павлов'}\n",
    "]\n",
    "directories = {\n",
    "'1': ['2207 876234', '11-2'],\n",
    "'2': ['10006'],\n",
    "'3': []\n",
    "}"
   ]
  },
  {
   "cell_type": "code",
   "execution_count": 2,
   "metadata": {},
   "outputs": [],
   "source": [
    "lis = []\n",
    "def search_by_doc_pre(ndoc):\n",
    "        for i in documents:\n",
    "            if i['number'] == ndoc:\n",
    "                return(lis.append(i['name']))\n",
    "def search_by_doc(lis):\n",
    "    if lis != []:\n",
    "        return('Владелец документа:',lis[0])\n",
    "    else: \n",
    "        return('Документ не найден в базе')"
   ]
  },
  {
   "cell_type": "code",
   "execution_count": 3,
   "metadata": {},
   "outputs": [],
   "source": [
    "pol = []\n",
    "def search_place_pre(ndog):\n",
    "    for place, doc in directories.items():\n",
    "        if ndog in doc:\n",
    "            return(pol.append(place))\n",
    "def search_place(pol):\n",
    "    if pol != []:\n",
    "        return('Документ хранится на полке:',pol[0])\n",
    "    else: \n",
    "        return('Документ не найден в базе')"
   ]
  },
  {
   "cell_type": "code",
   "execution_count": 4,
   "metadata": {},
   "outputs": [],
   "source": [
    "def add_place(nadd):\n",
    "    for place, doc in directories.items():\n",
    "        if nadd in place:\n",
    "            return('Такая полка уже существует. Текущий перечень полок:',directories.keys())\n",
    "        else:\n",
    "            directories[nadd] = []\n",
    "            return('Полка добавлена. Текущий перечень полок:',directories.keys())"
   ]
  },
  {
   "cell_type": "code",
   "execution_count": 5,
   "metadata": {},
   "outputs": [],
   "source": [
    "def del_place(nayd):\n",
    "    for place, doc in directories.items():\n",
    "        if nayd in place and doc == []:\n",
    "            del(directories[nayd])\n",
    "        elif nayd in place and doc != []:\n",
    "            return('На полке есть документа, удалите их перед удалением полки. Текущий перечень полок:',directories.keys())\n",
    "            break\n",
    "        elif nayd not in place:\n",
    "            return('Такой полки не существует. Текущий перечень полок:',directories.keys())"
   ]
  },
  {
   "cell_type": "code",
   "execution_count": 6,
   "metadata": {},
   "outputs": [
    {
     "name": "stdout",
     "output_type": "stream",
     "text": [
      "Введите командуq\n",
      "Введите номер документа10006\n",
      "('Владелец документа:', 'Аристарх Павлов')\n"
     ]
    }
   ],
   "source": [
    "com = str(input('Введите команду'))\n",
    "if com == 'q':\n",
    "    ndoc = str(input('Введите номер документа'))    \n",
    "    search_by_doc_pre(ndoc)\n",
    "    search_by_doc(lis)\n",
    "    print(search_by_doc(lis))\n",
    "elif com == 's':\n",
    "    ndog = str(input('Введите номер документа'))    \n",
    "    search_place_pre(ndog)\n",
    "    search_place(pol)\n",
    "    print(search_place(pol))\n",
    "elif com == 'l':\n",
    "       for doc in documents:\n",
    "        for direct in directories:\n",
    "            if doc['number'] in directories[direct] :\n",
    "                print('№:', doc['number'], ', тип: ', doc['type'], ', владелец: ', doc['name'], ', полка хранения:', direct)\n",
    "elif com == 'ad':\n",
    "    nadd = str(input('Введите номер полки'))  \n",
    "    add_place(nadd)\n",
    "    print(add_place(nadd)) \n",
    "elif com == 'ds':\n",
    "    nayd = str(input('Введите номер полки'))  \n",
    "    del_place(nayd)\n",
    "    print(del_place(nayd))\n",
    "\n",
    "#последние две функции реализованы с ошибками, подскажите пожалуйста как их реализовать правильно"
   ]
  }
 ],
 "metadata": {
  "kernelspec": {
   "display_name": "Python 3",
   "language": "python",
   "name": "python3"
  },
  "language_info": {
   "codemirror_mode": {
    "name": "ipython",
    "version": 3
   },
   "file_extension": ".py",
   "mimetype": "text/x-python",
   "name": "python",
   "nbconvert_exporter": "python",
   "pygments_lexer": "ipython3",
   "version": "3.7.6"
  }
 },
 "nbformat": 4,
 "nbformat_minor": 2
}
