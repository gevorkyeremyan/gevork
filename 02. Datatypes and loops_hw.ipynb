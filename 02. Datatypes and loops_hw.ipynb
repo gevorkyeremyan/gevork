{
 "cells": [
  {
   "cell_type": "code",
   "execution_count": 127,
   "metadata": {},
   "outputs": [
    {
     "name": "stdout",
     "output_type": "stream",
     "text": [
      "es\n"
     ]
    }
   ],
   "source": [
    "# 1 task\n",
    "word = 'test'\n",
    "if len(word) % 2 == 0:\n",
    "    x=int(len(word)/2-1)\n",
    "    y=int(len(word)/2+1)\n",
    "    print(word[x:y])  \n",
    "else: \n",
    "    z=int(len(word)/2)\n",
    "    print(word[z])\n"
   ]
  },
  {
   "cell_type": "code",
   "execution_count": 129,
   "metadata": {},
   "outputs": [
    {
     "name": "stdout",
     "output_type": "stream",
     "text": [
      "Введите число1\n",
      "Введите число2\n",
      "Введите число4\n",
      "Введите число5\n",
      "Введите число0\n",
      "5\n"
     ]
    }
   ],
   "source": [
    "# 2 task\n",
    "x = int(input('Введите число'))\n",
    "listz = [x]\n",
    "while x != 0:\n",
    "    x = int(input('Введите число'))\n",
    "    listz.append([x])\n",
    "print(len(listz))\n",
    "# print(sum(listz))\n",
    "# сумма почему-то не отрабатывает просьба подсказать где ошибка  \n"
   ]
  },
  {
   "cell_type": "code",
   "execution_count": null,
   "metadata": {},
   "outputs": [],
   "source": [
    "# 3 task\n",
    "boys = ['Peter', 'Alex', 'John', 'Arthur', 'Richard']\n",
    "girls = ['Kate', 'Liza', 'Kira', 'Emma', 'Trisha']\n",
    "boysn = sorted(boys)\n",
    "girlsn = sorted(girls)\n",
    "if len(boys) == len(girls):\n",
    "  print(boysn[0],' и ',girlsn[0])\n",
    "  print(boysn[1],' и ',girlsn[1])\n",
    "  print(boysn[2],' и ',girlsn[2])\n",
    "  print(boysn[3],' и ',girlsn[3])\n",
    "  print(boysn[4],' и ',girlsn[4])\n",
    "else:\n",
    "    print('Внимание, кто-то может остаться без пары!')"
   ]
  },
  {
   "cell_type": "code",
   "execution_count": 78,
   "metadata": {},
   "outputs": [
    {
     "name": "stdout",
     "output_type": "stream",
     "text": [
      "Средняя температура в странах:\n",
      "Thailand  -  23\n",
      "Germany  -  13\n",
      "Russia  -  3\n",
      "Poland  -  11\n"
     ]
    }
   ],
   "source": [
    "# 4 task\n",
    "countries_temperature = [\n",
    "['Thailand', [75.2, 77, 78.8, 73.4, 68, 75.2, 77]],\n",
    "['Germany', [57.2, 55.4, 59, 59, 53.6]],\n",
    "['Russia', [35.6, 37.4, 39.2, 41, 42.8, 39.2, 35.6]],\n",
    "['Poland', [50, 50, 53.6, 57.2, 55.4, 55.4]]\n",
    "]\n",
    "Thailand1 = countries_temperature[0]\n",
    "Germany1 = countries_temperature[1]\n",
    "Russia1 = countries_temperature[2]\n",
    "Poland1 = countries_temperature[3]\n",
    "print('Средняя температура в странах:')\n",
    "print(Thailand1[0],' - ',int((sum(Thailand1[1])/len(Thailand1[1])-32)/1.8))\n",
    "print(Germany1[0],' - ',int((sum(Germany1[1])/len(Germany1[1])-32)/1.8))\n",
    "print(Russia1[0],' - ',int((sum(Russia1[1])/len(Russia1[1])-32)/1.8))\n",
    "print(Poland1[0],' - ',int((sum(Poland1[1])/len(Poland1[1])-32)/1.8))"
   ]
  }
 ],
 "metadata": {
  "kernelspec": {
   "display_name": "Python 3",
   "language": "python",
   "name": "python3"
  },
  "language_info": {
   "codemirror_mode": {
    "name": "ipython",
    "version": 3
   },
   "file_extension": ".py",
   "mimetype": "text/x-python",
   "name": "python",
   "nbconvert_exporter": "python",
   "pygments_lexer": "ipython3",
   "version": "3.7.6"
  }
 },
 "nbformat": 4,
 "nbformat_minor": 4
}
