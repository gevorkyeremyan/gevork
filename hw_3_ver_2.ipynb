{
 "cells": [
  {
   "cell_type": "code",
   "execution_count": 94,
   "metadata": {},
   "outputs": [
    {
     "name": "stdout",
     "output_type": "stream",
     "text": [
      "task_1\n"
     ]
    },
    {
     "data": {
      "text/plain": [
       "{15, 35, 54, 98, 119, 213}"
      ]
     },
     "execution_count": 94,
     "metadata": {},
     "output_type": "execute_result"
    }
   ],
   "source": [
    "print('task_1')\n",
    "ids = {'user1': [213, 213, 213, 15, 213],\n",
    "'user2': [54, 54, 119, 119, 119],\n",
    "'user3': [213, 98, 98, 35]}\n",
    "\n",
    "pr = list(ids.values())\n",
    "all=[]\n",
    "for lst in pr:\n",
    "        all=all+lst\n",
    "set(all)"
   ]
  },
  {
   "cell_type": "code",
   "execution_count": 95,
   "metadata": {},
   "outputs": [
    {
     "name": "stdout",
     "output_type": "stream",
     "text": [
      "task_2\n",
      "Поисковых запросов, содержащих 2 слов(а): 42.86%\n",
      "Поисковых запросов, содержащих 3 слов(а): 57.14%\n"
     ]
    }
   ],
   "source": [
    "print('task_2')\n",
    "listik=[]\n",
    "for i in queries:\n",
    "    listik.append(len(i.split(\" \")))\n",
    "print('Поисковых запросов, содержащих 2 слов(а):',\"{:.2%}\".format(sum([qw for qw in listik if qw == 2])/2/len(listik)))\n",
    "print('Поисковых запросов, содержащих 3 слов(а):',\"{:.2%}\".format(1-sum([qw for qw in listik if qw == 2])/2/len(listik)))"
   ]
  },
  {
   "cell_type": "code",
   "execution_count": 96,
   "metadata": {},
   "outputs": [
    {
     "name": "stdout",
     "output_type": "stream",
     "text": [
      "task_3\n"
     ]
    },
    {
     "data": {
      "text/plain": [
       "{'vk': {'revenue': 103, 'cost': 98, 'ROI': 5},\n",
       " 'yandex': {'revenue': 179, 'cost': 153, 'ROI': 16},\n",
       " 'facebook': {'revenue': 103, 'cost': 110, 'ROI': -6},\n",
       " 'adwords': {'revenue': 35, 'cost': 34, 'ROI': 2},\n",
       " 'twitter': {'revenue': 11, 'cost': 24, 'ROI': -54}}"
      ]
     },
     "execution_count": 96,
     "metadata": {},
     "output_type": "execute_result"
    }
   ],
   "source": [
    "print('task_3')\n",
    "results = {\n",
    "'vk': {'revenue': 103, 'cost': 98},\n",
    "'yandex': {'revenue': 179, 'cost': 153},\n",
    "'facebook': {'revenue': 103, 'cost': 110},\n",
    "'adwords': {'revenue': 35, 'cost': 34},\n",
    "'twitter': {'revenue': 11, 'cost': 24},\n",
    "}\n",
    "list(results.keys())\n",
    "list(results.values())\n",
    "list(results.items())\n",
    "\n",
    "for person, info in results.items():\n",
    "    info['ROI']=int((info['revenue']/info['cost']-1)*100)\n",
    "results"
   ]
  },
  {
   "cell_type": "code",
   "execution_count": 97,
   "metadata": {},
   "outputs": [
    {
     "name": "stdout",
     "output_type": "stream",
     "text": [
      "task_4\n",
      "Максимальный объем продаж на рекламном канале: vk 120\n"
     ]
    }
   ],
   "source": [
    "print('task_4')\n",
    "stats = {'facebook': 55, 'yandex': 115, 'vk': 120, 'google': 99, 'email': 42, 'ok': 98}\n",
    "for person, info in stats.items():\n",
    "    if info == max(list(stats.values())):\n",
    "        print ('Максимальный объем продаж на рекламном канале:', person,info)\n",
    "  "
   ]
  }
 ],
 "metadata": {
  "kernelspec": {
   "display_name": "Python 3",
   "language": "python",
   "name": "python3"
  },
  "language_info": {
   "codemirror_mode": {
    "name": "ipython",
    "version": 3
   },
   "file_extension": ".py",
   "mimetype": "text/x-python",
   "name": "python",
   "nbconvert_exporter": "python",
   "pygments_lexer": "ipython3",
   "version": "3.7.6"
  }
 },
 "nbformat": 4,
 "nbformat_minor": 4
}
