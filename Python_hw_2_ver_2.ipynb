{
 "cells": [
  {
   "cell_type": "code",
   "execution_count": 33,
   "metadata": {},
   "outputs": [
    {
     "name": "stdout",
     "output_type": "stream",
     "text": [
      "es\n"
     ]
    }
   ],
   "source": [
    "# 1 task\n",
    "word = 'test'\n",
    "if len(word) % 2 == 0:\n",
    "    x=int(len(word)/2-1)\n",
    "    y=int(len(word)/2+1)\n",
    "    print(word[x:y])  \n",
    "else: \n",
    "    z=int(len(word)/2)\n",
    "    print(word[z])"
   ]
  },
  {
   "cell_type": "code",
   "execution_count": 34,
   "metadata": {},
   "outputs": [
    {
     "name": "stdout",
     "output_type": "stream",
     "text": [
      "Введите число2\n",
      "Введите число5\n",
      "Введите число3\n",
      "Введите число0\n",
      "10\n"
     ]
    }
   ],
   "source": [
    "# 2 task\n",
    "x = int(input('Введите число'))\n",
    "listz = [x]\n",
    "while x != 0:\n",
    "    x = int(input('Введите число'))\n",
    "    listz.append(x)\n",
    "print(sum(listz))"
   ]
  },
  {
   "cell_type": "code",
   "execution_count": 32,
   "metadata": {},
   "outputs": [
    {
     "name": "stdout",
     "output_type": "stream",
     "text": [
      "Alex  и  Emma\n",
      "Arthur  и  Kate\n",
      "John  и  Kira\n",
      "Peter  и  Liza\n",
      "Richard  и  Trisha\n"
     ]
    }
   ],
   "source": [
    "# 3 task\n",
    "boys = ['Peter', 'Alex', 'John', 'Arthur', 'Richard']\n",
    "girls = ['Kate', 'Liza', 'Kira', 'Emma', 'Trisha']\n",
    "boysn = sorted(boys)\n",
    "girlsn = sorted(girls)\n",
    "couples=list(zip(boysn, girlsn))\n",
    "for boy, girl in couples:\n",
    "    if len(boys) != len(girls):  \n",
    "        print('Внимание, кто-то может остаться без пары!')\n",
    "        break\n",
    "    else:\n",
    "        print(boy,' и ',girl)"
   ]
  },
  {
   "cell_type": "code",
   "execution_count": 7,
   "metadata": {},
   "outputs": [
    {
     "name": "stdout",
     "output_type": "stream",
     "text": [
      "Средняя температура в странах:\n",
      "Thailand  -  23\n",
      "Germany  -  13\n",
      "Russia  -  3\n",
      "Poland  -  11\n"
     ]
    }
   ],
   "source": [
    "# 4 task\n",
    "print('Средняя температура в странах:')\n",
    "countries_temperature = [\n",
    "['Thailand', [75.2, 77, 78.8, 73.4, 68, 75.2, 77]],\n",
    "['Germany', [57.2, 55.4, 59, 59, 53.6]],\n",
    "['Russia', [35.6, 37.4, 39.2, 41, 42.8, 39.2, 35.6]],\n",
    "['Poland', [50, 50, 53.6, 57.2, 55.4, 55.4]]\n",
    "]\n",
    "for person, info in countries_temperature:\n",
    "    print(person,' - ',int((sum(info)/len(info)-32)/1.8))"
   ]
  }
 ],
 "metadata": {
  "kernelspec": {
   "display_name": "Python 3",
   "language": "python",
   "name": "python3"
  },
  "language_info": {
   "codemirror_mode": {
    "name": "ipython",
    "version": 3
   },
   "file_extension": ".py",
   "mimetype": "text/x-python",
   "name": "python",
   "nbconvert_exporter": "python",
   "pygments_lexer": "ipython3",
   "version": "3.7.3"
  }
 },
 "nbformat": 4,
 "nbformat_minor": 2
}
